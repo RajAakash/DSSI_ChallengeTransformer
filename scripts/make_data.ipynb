{
 "cells": [
  {
   "cell_type": "code",
   "execution_count": 2,
   "metadata": {
    "tags": []
   },
   "outputs": [],
   "source": [
    "import glob, re, os\n",
    "import numpy as np\n",
    "import pandas as pd\n",
    "import matplotlib.pyplot as plt"
   ]
  },
  {
   "cell_type": "code",
   "execution_count": 3,
   "metadata": {
    "tags": []
   },
   "outputs": [],
   "source": [
    "%run cardiac_ml_tools.py"
   ]
  },
  {
   "cell_type": "markdown",
   "metadata": {},
   "source": [
    "### var"
   ]
  },
  {
   "cell_type": "code",
   "execution_count": 4,
   "metadata": {
    "tags": []
   },
   "outputs": [],
   "source": [
    "dir_list = [\"data_hearts_dd_0p2\",\n",
    "            \"data_hearts_dd_0p2_geo_act_1_bcl\",\n",
    "            \"data_hearts_dd_0p2_geo_act_1_bcl_gkr\",\n",
    "            \"data_hearts_dd_0p2_geo_act_1_bcl_gkr_I\",\n",
    "            \"data_hearts_dd_0p2_geo_act_2_bcl\",\n",
    "            \"data_hearts_dd_0p2_geo_act_2_bcl_gkr\",\n",
    "            \"data_hearts_dd_0p2_geo_act_2_bcl_gkr_I\",\n",
    "            \"data_hearts_dd_0p2_geo_act_3_bcl\",\n",
    "            \"data_hearts_dd_0p2_geo_act_3_bcl_gkr\",\n",
    "            \"data_hearts_dd_0p2_geo_act_3_bcl_gkr_I\",\n",
    "            \"data_hearts_dd_0p2_geo_inn\",\n",
    "            \"data_hearts_dd_0p2_geo_inn_act_1_bcl\",\n",
    "            \"data_hearts_dd_0p2_geo_inn_act_1_bcl_I\",\n",
    "            \"data_hearts_dd_0p2_geo_inn_act_2_bcl\",\n",
    "            \"data_hearts_dd_0p2_geo_inn_act_2_bcl_I\",\n",
    "            \"data_hearts_dd_0p2_geo_inn_act_3_bcl\",\n",
    "            \"data_hearts_dd_0p2_geo_inn_act_3_bcl_I\",\n",
    "            ]"
   ]
  },
  {
   "cell_type": "markdown",
   "metadata": {},
   "source": [
    "---"
   ]
  },
  {
   "cell_type": "markdown",
   "metadata": {},
   "source": [
    "# check the value range"
   ]
  },
  {
   "cell_type": "markdown",
   "metadata": {},
   "source": [
    "### data_Y_Task3"
   ]
  },
  {
   "cell_type": "code",
   "execution_count": 5,
   "metadata": {
    "tags": []
   },
   "outputs": [
    {
     "name": "stdout",
     "output_type": "stream",
     "text": [
      "-93.086583844575 49.530741145564\n"
     ]
    }
   ],
   "source": [
    "first_string_search = \"VmData\" #-93.086583844575 49.530741145564\n",
    "\n",
    "min_best = np.inf\n",
    "max_best = -np.inf\n",
    "\n",
    "import os\n",
    "for _, dir_name in enumerate(dir_list):\n",
    "    #-----------------\n",
    "    #list_file_name\n",
    "    list_file_name = os.listdir(\"../intracardiac_dataset/{}\".format(dir_name))\n",
    "    #-----------------\n",
    "    #processing\n",
    "    for _, file_name in enumerate(list_file_name):\n",
    "        #-----------------\n",
    "        #first_string\n",
    "        first_string = file_name.split(\"_\")[0]\n",
    "        #-----------------\n",
    "        #check file & processing\n",
    "        if first_string == first_string_search:\n",
    "            #-----------------\n",
    "            #load data\n",
    "            ndarray_VmData_rawdata = np.load(\"../intracardiac_dataset/{0}/{1}\".format(dir_name,file_name))\n",
    "            #-----------------\n",
    "            #min, max\n",
    "            min = ndarray_VmData_rawdata.min()\n",
    "            max = ndarray_VmData_rawdata.max()\n",
    "            #-----------------\n",
    "            #check\n",
    "            if min<min_best:\n",
    "                min_best = min\n",
    "            if max_best<max:\n",
    "                max_best = max\n",
    "\n",
    "print(min_best, max_best)"
   ]
  },
  {
   "cell_type": "markdown",
   "metadata": {},
   "source": [
    "### data_Y_Task4"
   ]
  },
  {
   "cell_type": "code",
   "execution_count": 6,
   "metadata": {
    "tags": []
   },
   "outputs": [
    {
     "name": "stdout",
     "output_type": "stream",
     "text": [
      "0 185\n"
     ]
    }
   ],
   "source": [
    "min_best = np.inf #0\n",
    "max_best = -np.inf #185\n",
    "\n",
    "import os\n",
    "for _, dir_name in enumerate(dir_list):\n",
    "    #-----------------\n",
    "    #list_file_name\n",
    "    list_file_name = os.listdir(\"../intracardiac_dataset/{}\".format(dir_name))\n",
    "    #-----------------\n",
    "    #processing\n",
    "    for _, file_name in enumerate(list_file_name):\n",
    "        #-----------------\n",
    "        #first_string\n",
    "        first_string = file_name.split(\"_\")[0]\n",
    "        #-----------------\n",
    "        #check file & processing\n",
    "        if first_string == \"VmData\":\n",
    "            #-----------------\n",
    "            #load data\n",
    "            ndarray_VmData_rawdata = np.load(\"../intracardiac_dataset/{0}/{1}\".format(dir_name,file_name))\n",
    "            #activation_time\n",
    "            ndarray_VmData_activation_time = get_activation_time(Vm=ndarray_VmData_rawdata)\n",
    "            #-----------------\n",
    "            #min, max\n",
    "            min = ndarray_VmData_activation_time.min()\n",
    "            max = ndarray_VmData_activation_time.max()\n",
    "            #-----------------\n",
    "            #check\n",
    "            if min<min_best:\n",
    "                min_best = min\n",
    "            if max_best<max:\n",
    "                max_best = max\n",
    "\n",
    "print(min_best, max_best)"
   ]
  },
  {
   "cell_type": "markdown",
   "metadata": {},
   "source": [
    "---"
   ]
  },
  {
   "cell_type": "markdown",
   "metadata": {},
   "source": [
    "# create data_Y_Task3"
   ]
  },
  {
   "cell_type": "markdown",
   "metadata": {},
   "source": [
    "### make dir"
   ]
  },
  {
   "cell_type": "code",
   "execution_count": null,
   "metadata": {},
   "outputs": [],
   "source": [
    "\"\"\"import os\n",
    "for cnt, dir_name in enumerate(dir_list):\n",
    "    os.makedirs(\"../VmData_Activation/{}\".format(dir_name), exist_ok=True)\"\"\""
   ]
  },
  {
   "cell_type": "markdown",
   "metadata": {},
   "source": [
    "### make VmData_Activation"
   ]
  },
  {
   "cell_type": "code",
   "execution_count": 8,
   "metadata": {
    "tags": []
   },
   "outputs": [],
   "source": [
    "import os\n",
    "for _, dir_name in enumerate(dir_list):\n",
    "    #-----------------\n",
    "    #list_file_name\n",
    "    list_file_name = os.listdir(\"../intracardiac_dataset/{}\".format(dir_name))\n",
    "    #-----------------\n",
    "    #processing\n",
    "    for _, file_name in enumerate(list_file_name):\n",
    "        #-----------------\n",
    "        #first_string\n",
    "        first_string = file_name.split(\"_\")[0]\n",
    "        #-----------------\n",
    "        #check file & processing\n",
    "        if first_string == \"VmData\":\n",
    "            #-----------------\n",
    "            #load data\n",
    "            ndarray_VmData_rawdata = np.load(\"../intracardiac_dataset/{0}/{1}\".format(dir_name,file_name))\n",
    "            #activation_time\n",
    "            ndarray_VmData_activation_time = get_activation_time(Vm=ndarray_VmData_rawdata)\n",
    "            #calc /500 (std to train) : (0,500) ->(/185)-> (0,1)\n",
    "            ndarray_VmData_activation_time = ndarray_VmData_activation_time/185\n",
    "            #-----------------\n",
    "            #file_name_write\n",
    "            file_name_write = \"_\".join([str(elem) for elem in file_name.split(\"_\")[1:]])\n",
    "            #-----------------\n",
    "            #save\n",
    "            np.save(\"../data_Y_Task3/{0}\".format(file_name_write), ndarray_VmData_activation_time)"
   ]
  },
  {
   "cell_type": "markdown",
   "metadata": {},
   "source": [
    "### check"
   ]
  },
  {
   "cell_type": "code",
   "execution_count": 9,
   "metadata": {
    "tags": []
   },
   "outputs": [
    {
     "name": "stdout",
     "output_type": "stream",
     "text": [
      "(75, 1)\n",
      "[[0.07027027]\n",
      " [0.10810811]\n",
      " [0.08108108]\n",
      " [0.03243243]\n",
      " [0.04324324]\n",
      " [0.01621622]\n",
      " [0.05405405]\n",
      " [0.03243243]\n",
      " [0.01081081]\n",
      " [0.05405405]\n",
      " [0.02702703]\n",
      " [0.01081081]\n",
      " [0.05405405]\n",
      " [0.03243243]\n",
      " [0.01081081]\n",
      " [0.02162162]\n",
      " [0.02162162]\n",
      " [0.04324324]\n",
      " [0.04864865]\n",
      " [0.02702703]\n",
      " [0.01081081]\n",
      " [0.04864865]\n",
      " [0.03243243]\n",
      " [0.01081081]\n",
      " [0.05405405]\n",
      " [0.03243243]\n",
      " [0.01081081]\n",
      " [0.02702703]\n",
      " [0.06486486]\n",
      " [0.03243243]\n",
      " [0.07027027]\n",
      " [0.04324324]\n",
      " [0.01621622]\n",
      " [0.03243243]\n",
      " [0.07027027]\n",
      " [0.03243243]\n",
      " [0.07567568]\n",
      " [0.04864865]\n",
      " [0.01621622]\n",
      " [0.07027027]\n",
      " [0.04324324]\n",
      " [0.01621622]\n",
      " [0.07027027]\n",
      " [0.04324324]\n",
      " [0.01621622]\n",
      " [0.05945946]\n",
      " [0.03783784]\n",
      " [0.01081081]\n",
      " [0.08108108]\n",
      " [0.01621622]\n",
      " [0.05405405]\n",
      " [0.04864865]\n",
      " [0.02702703]\n",
      " [0.01081081]\n",
      " [0.04324324]\n",
      " [0.02702703]\n",
      " [0.01081081]\n",
      " [0.06486486]\n",
      " [0.03243243]\n",
      " [0.02702703]\n",
      " [0.02702703]\n",
      " [0.05405405]\n",
      " [0.01081081]\n",
      " [0.02702703]\n",
      " [0.05945946]\n",
      " [0.02702703]\n",
      " [0.04864865]\n",
      " [0.02702703]\n",
      " [0.01081081]\n",
      " [0.06486486]\n",
      " [0.03783784]\n",
      " [0.01621622]\n",
      " [0.07567568]\n",
      " [0.04864865]\n",
      " [0.02162162]]\n"
     ]
    }
   ],
   "source": [
    "import pandas as pd\n",
    "import numpy as np\n",
    "#ndarray_VmData_Activation = np.load('../data_Y_Task3/hearts_dd_0p2_geo_act_1_bcl_bcl.600.pattern.0.volunteer.v1.npy')\n",
    "ndarray_VmData_Activation = np.load('../data_Y_Task3/hearts_dd_0p2_volunteer.v1_pattern.0.npy')\n",
    "print(ndarray_VmData_Activation.shape)\n",
    "print(ndarray_VmData_Activation)"
   ]
  },
  {
   "cell_type": "markdown",
   "metadata": {},
   "source": [
    "---"
   ]
  },
  {
   "cell_type": "markdown",
   "metadata": {},
   "source": [
    "# create data_X, data_Y_Task4"
   ]
  },
  {
   "cell_type": "code",
   "execution_count": 10,
   "metadata": {
    "tags": []
   },
   "outputs": [],
   "source": [
    "import shutil\n",
    "import os\n",
    "for _, dir_name in enumerate(dir_list):\n",
    "    #-----------------\n",
    "    #list_file_name\n",
    "    list_file_name = os.listdir(\"../intracardiac_dataset/{}\".format(dir_name))\n",
    "    #-----------------\n",
    "    #processingß\n",
    "    for _, file_name in enumerate(list_file_name):\n",
    "        #-----------------\n",
    "        #first_string\n",
    "        first_string = file_name.split(\"_\")[0]\n",
    "        #-----------------\n",
    "        #path_before\n",
    "        path_before = \"../intracardiac_dataset/{0}/{1}\".format(dir_name,file_name)\n",
    "        #-----------------\n",
    "        #check file & processing\n",
    "        if first_string == \"pECGData\":\n",
    "            #-----------------\n",
    "            #load data\n",
    "            ndarray_pECGData_rawdata = np.load(\"../intracardiac_dataset/{0}/{1}\".format(dir_name,file_name))\n",
    "            #-----------------\n",
    "            #ndarray_pECGData_std & T\n",
    "            ndarray_pECGData_std = get_standard_leads(pECGnumpy=ndarray_pECGData_rawdata).T\n",
    "            #-----------------\n",
    "            #file_name_write\n",
    "            file_name_write = \"_\".join([str(elem) for elem in file_name.split(\"_\")[1:]])\n",
    "            #-----------------\n",
    "            #save\n",
    "            np.save(\"../data_X/{0}\".format(file_name_write), ndarray_pECGData_std)\n",
    "        elif first_string == \"VmData\":\n",
    "            #-----------------\n",
    "            #file_name_write\n",
    "            file_name_write = \"_\".join([str(elem) for elem in file_name.split(\"_\")[1:]])\n",
    "            #-----------------\n",
    "            #load data\n",
    "            ndarray_VmData_rawdata = np.load(path_before)\n",
    "            #T\n",
    "            ndarray_VmData_rawdata = ndarray_VmData_rawdata.T\n",
    "            #calc /100 (std to train) : (-100,50) ->(+100)-> (0,150) >(/150)-> (0,1)\n",
    "            ndarray_VmData_rawdata = (ndarray_VmData_rawdata+100)/150\n",
    "            #save\n",
    "            np.save(\"../data_Y_Task4/{}\".format(file_name_write), ndarray_VmData_rawdata)\n",
    "        elif first_string == \".bash\":\n",
    "            pass\n",
    "        else:\n",
    "            print(first_string)\n",
    "            raise ValueError(\"error!!!\")"
   ]
  },
  {
   "cell_type": "code",
   "execution_count": 11,
   "metadata": {
    "tags": []
   },
   "outputs": [
    {
     "name": "stdout",
     "output_type": "stream",
     "text": [
      "(12, 500)\n",
      "[[ 6.88542450e-02  1.29309706e-01  2.04173088e-01 ...  5.51596882e-05\n",
      "   5.42432132e-05  5.33491153e-05]\n",
      " [ 7.07487330e-02  1.27802256e-01  1.90196902e-01 ...  1.94104350e-05\n",
      "   1.95033560e-05  1.95972410e-05]\n",
      " [ 1.89448800e-03 -1.50745000e-03 -1.39761860e-02 ... -3.57492532e-05\n",
      "  -3.47398572e-05 -3.37518743e-05]\n",
      " ...\n",
      " [ 1.91848489e-02  3.11466255e-02  3.03232624e-02 ...  2.10809510e-04\n",
      "   2.08378000e-04  2.05981372e-04]\n",
      " [ 2.34811489e-02  4.30648895e-02  6.51849664e-02 ...  1.26850691e-04\n",
      "   1.25679804e-04  1.24523858e-04]\n",
      " [ 2.49093939e-02  4.75615415e-02  7.71127564e-02 ...  1.45161080e-04\n",
      "   1.43917270e-04  1.42687442e-04]]\n"
     ]
    }
   ],
   "source": [
    "ndarray_VmData_Activation = np.load('../data_X/hearts_dd_0p2_volunteer.v1_pattern.0.npy')\n",
    "print(ndarray_VmData_Activation.shape)\n",
    "print(ndarray_VmData_Activation)"
   ]
  },
  {
   "cell_type": "code",
   "execution_count": 12,
   "metadata": {
    "tags": []
   },
   "outputs": [
    {
     "name": "stdout",
     "output_type": "stream",
     "text": [
      "(75, 500)\n",
      "[[0.10899189 0.10517984 0.10187717 ... 0.09407054 0.094057   0.09404359]\n",
      " [0.10899189 0.10517984 0.10187717 ... 0.09415868 0.09414425 0.09412998]\n",
      " [0.10899189 0.10517985 0.10187717 ... 0.09410618 0.09409228 0.09407851]\n",
      " ...\n",
      " [0.10899171 0.10517937 0.1018764  ... 0.09424316 0.09422812 0.09421323]\n",
      " [0.10899023 0.10517668 0.10187271 ... 0.09424536 0.09423082 0.09421642]\n",
      " [0.10907902 0.10701919 0.11647557 ... 0.0941266  0.09411272 0.09409898]]\n"
     ]
    }
   ],
   "source": [
    "ndarray_VmData_Activation = np.load('../data_Y_Task4/hearts_dd_0p2_volunteer.v1_pattern.0.npy')\n",
    "print(ndarray_VmData_Activation.shape)\n",
    "print(ndarray_VmData_Activation)"
   ]
  },
  {
   "cell_type": "markdown",
   "metadata": {},
   "source": [
    "---"
   ]
  },
  {
   "cell_type": "markdown",
   "metadata": {},
   "source": [
    "### check # of data"
   ]
  },
  {
   "cell_type": "code",
   "execution_count": 13,
   "metadata": {
    "tags": []
   },
   "outputs": [
    {
     "name": "stdout",
     "output_type": "stream",
     "text": [
      "16117\n",
      "16117\n",
      "16117\n"
     ]
    }
   ],
   "source": [
    "import os\n",
    "\n",
    "#-----------------\n",
    "#list_file_name\n",
    "list_file_name = os.listdir(\"../data_X\")\n",
    "print(len(list_file_name))\n",
    "\n",
    "#-----------------\n",
    "#list_file_name\n",
    "list_file_name = os.listdir(\"../data_Y_Task3\")\n",
    "print(len(list_file_name))\n",
    "\n",
    "\n",
    "#-----------------\n",
    "#list_file_name\n",
    "list_file_name = os.listdir(\"../data_Y_Task4\")\n",
    "print(len(list_file_name))"
   ]
  },
  {
   "cell_type": "code",
   "execution_count": null,
   "metadata": {},
   "outputs": [],
   "source": []
  }
 ],
 "metadata": {
  "kernelspec": {
   "display_name": "Python 3 (ipykernel)",
   "language": "python",
   "name": "python3"
  },
  "language_info": {
   "codemirror_mode": {
    "name": "ipython",
    "version": 3
   },
   "file_extension": ".py",
   "mimetype": "text/x-python",
   "name": "python",
   "nbconvert_exporter": "python",
   "pygments_lexer": "ipython3",
   "version": "3.9.12"
  }
 },
 "nbformat": 4,
 "nbformat_minor": 4
}
