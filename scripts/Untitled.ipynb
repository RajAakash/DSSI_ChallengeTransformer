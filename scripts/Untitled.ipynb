{
 "cells": [
  {
   "cell_type": "code",
   "execution_count": 1,
   "id": "a35ce131-e8ab-4025-ba08-d232e0896399",
   "metadata": {
    "tags": []
   },
   "outputs": [],
   "source": [
    "import numpy as np\n",
    "import pandas as pd\n",
    "import matplotlib.pyplot as plt"
   ]
  },
  {
   "cell_type": "code",
   "execution_count": 3,
   "id": "1a87407f-e24f-4ed3-956e-e2badfc6d735",
   "metadata": {
    "tags": []
   },
   "outputs": [],
   "source": [
    "import torch\n",
    "import torch.nn as nn\n",
    "# from torchvision import models"
   ]
  },
  {
   "cell_type": "code",
   "execution_count": 4,
   "id": "7564457c-e976-4964-a3a5-0af5e843893a",
   "metadata": {
    "tags": []
   },
   "outputs": [],
   "source": [
    "%run func_DL.py"
   ]
  },
  {
   "cell_type": "code",
   "execution_count": 5,
   "id": "0cd25b7d-0dd6-4551-ae43-3bf2ce9ddfbd",
   "metadata": {
    "tags": []
   },
   "outputs": [
    {
     "name": "stdout",
     "output_type": "stream",
     "text": [
      "False\n"
     ]
    }
   ],
   "source": [
    "print(torch.cuda.is_available())"
   ]
  },
  {
   "cell_type": "code",
   "execution_count": 6,
   "id": "bfbb1399-4aa7-4a70-b77b-6e32d6d271ad",
   "metadata": {
    "tags": []
   },
   "outputs": [],
   "source": [
    "class model_task3(nn.Module):\n",
    "    def __init__(self, in_channels, in_length, out_channels, out_length, batch_size):\n",
    "        super().__init__()\n",
    "        #-----------------------------------\n",
    "        #var\n",
    "        self.in_channels = in_channels\n",
    "        self.in_length = in_length\n",
    "        self.out_channels = out_channels\n",
    "        self.out_length = out_length\n",
    "        self.batch_size = batch_size\n",
    "        #-----------------------------------\n",
    "        #Conv1d\n",
    "        #https://pytorch.org/docs/stable/generated/torch.nn.Conv1d.html\n",
    "        #https://github.com/vdumoulin/conv_arithmetic/blob/master/README.md\n",
    "        #conv1d_0\n",
    "        kernel_size_conv1d_0=2; stride_conv1d_0=1; padding_conv1d_0=1; dilation_conv1d_0=1; \n",
    "        self.in_channels_conv1d_0 = self.in_channels; self.in_length_conv1d_0 = self.in_length\n",
    "        self.out_channels_conv1d_0= 70; self.out_length_conv1d_0 = int((self.in_length_conv1d_0+2*padding_conv1d_0-dilation_conv1d_0*(kernel_size_conv1d_0-1)-1)/stride_conv1d_0+1)\n",
    "        #conv1d_1\n",
    "        kernel_size_conv1d_1=2; stride_conv1d_1=1; padding_conv1d_1=1; dilation_conv1d_1=1; \n",
    "        self.in_channels_conv1d_1 = self.out_channels_conv1d_0; self.in_length_conv1d_1 = self.out_length_conv1d_0\n",
    "        self.out_channels_conv1d_1= 70; self.out_length_conv1d_1= int((self.in_length_conv1d_1+2*padding_conv1d_1-dilation_conv1d_1*(kernel_size_conv1d_1-1)-1)/stride_conv1d_1+1)\n",
    "        #conv1d_2\n",
    "        kernel_size_conv1d_2=2; stride_conv1d_2=1; padding_conv1d_2=1; dilation_conv1d_2=1; \n",
    "        self.in_channels_conv1d_2 = self.out_channels_conv1d_1; self.in_length_conv1d_2 = self.out_length_conv1d_1\n",
    "        self.out_channels_conv1d_2= 70; self.out_length_conv1d_2= int((self.in_length_conv1d_2+2*padding_conv1d_2-dilation_conv1d_2*(kernel_size_conv1d_2-1)-1)/stride_conv1d_2+1)\n",
    "        #conv1d_3\n",
    "        kernel_size_conv1d_3=2; stride_conv1d_3=1; padding_conv1d_3=1; dilation_conv1d_3=1; \n",
    "        self.in_channels_conv1d_3 = self.out_channels_conv1d_2; self.in_length_conv1d_3 = self.out_length_conv1d_2\n",
    "        self.out_channels_conv1d_3= 70; self.out_length_conv1d_3= int((self.in_length_conv1d_3+2*padding_conv1d_3-dilation_conv1d_3*(kernel_size_conv1d_3-1)-1)/stride_conv1d_3+1)\n",
    "        #-----------------------------------\n",
    "        #DNN\n",
    "        self.in_channels_DNN = self.out_channels_conv1d_3*self.out_length_conv1d_3\n",
    "        self.inner_channels_DNN = 70\n",
    "        self.out_channels_DNN = self.out_channels*self.out_length\n",
    "\n",
    "        #-----------------------------------\n",
    "        #layer0\n",
    "        self.layer0 = nn.Sequential(\n",
    "            #-----------------------------------\n",
    "            #conv1d_0\n",
    "            nn.Conv1d(in_channels=self.in_channels_conv1d_0, out_channels=self.out_channels_conv1d_0, kernel_size=kernel_size_conv1d_0, stride=stride_conv1d_0, padding=padding_conv1d_0, dilation=dilation_conv1d_0),\n",
    "            nn.BatchNorm1d(num_features=self.out_channels_conv1d_0),\n",
    "            #nn.ReLU(),\n",
    "            nn.Sigmoid(),\n",
    "            #nn.LeakyReLU(0.2, inplace=True),\n",
    "            #-----------------------------------\n",
    "            #conv1d_1\n",
    "            #nn.Dropout(p=0.2),\n",
    "            nn.Conv1d(in_channels=self.in_channels_conv1d_1, out_channels=self.out_channels_conv1d_1, kernel_size=kernel_size_conv1d_1, stride=stride_conv1d_1, padding=padding_conv1d_1, dilation=dilation_conv1d_1),\n",
    "            nn.BatchNorm1d(num_features=self.out_channels_conv1d_1),\n",
    "            #nn.ReLU(),\n",
    "            nn.Sigmoid(),\n",
    "            #nn.LeakyReLU(0.2, inplace=True),\n",
    "            #-----------------------------------\n",
    "            #conv1d_2\n",
    "            nn.Conv1d(in_channels=self.in_channels_conv1d_2, out_channels=self.out_channels_conv1d_2, kernel_size=kernel_size_conv1d_2, stride=stride_conv1d_2, padding=padding_conv1d_2, dilation=dilation_conv1d_2),\n",
    "            nn.BatchNorm1d(num_features=self.out_channels_conv1d_2),\n",
    "            #nn.ReLU(),\n",
    "            nn.Sigmoid(),\n",
    "            #nn.LeakyReLU(0.2, inplace=True),\n",
    "            #-----------------------------------\n",
    "            #conv1d_3\n",
    "            nn.Conv1d(in_channels=self.in_channels_conv1d_3, out_channels=self.out_channels_conv1d_3, kernel_size=kernel_size_conv1d_3, stride=stride_conv1d_3, padding=padding_conv1d_3, dilation=dilation_conv1d_3),\n",
    "            nn.BatchNorm1d(num_features=self.out_channels_conv1d_3),\n",
    "            #nn.ReLU(),\n",
    "            nn.Sigmoid(),\n",
    "            #nn.LeakyReLU(0.2, inplace=True),\n",
    "        )\n",
    "        #-----------------------------------\n",
    "        #layer1\n",
    "        self.layer1 = nn.Sequential(\n",
    "            #-----------------------------------\n",
    "            nn.Linear(self.in_channels_DNN, self.inner_channels_DNN),\n",
    "            nn.BatchNorm1d(num_features=self.inner_channels_DNN),\n",
    "            #nn.ReLU(),\n",
    "            #nn.LeakyReLU(0.2, inplace=True),\n",
    "            nn.Sigmoid(),\n",
    "            #-----------------------------------\n",
    "            #nn.Dropout(p=0.2),\n",
    "            nn.Linear(self.inner_channels_DNN, self.inner_channels_DNN),\n",
    "            #nn.ReLU(),\n",
    "            #nn.LeakyReLU(0.2, inplace=True),\n",
    "            nn.Sigmoid(),\n",
    "            #-----------------------------------\n",
    "            nn.Linear(self.inner_channels_DNN, self.out_channels_DNN),\n",
    "            #nn.ReLU(),\n",
    "            nn.Sigmoid(),            \n",
    "        )\n",
    "\n",
    "\n",
    "    def forward(self, x):    \n",
    "        output0 = self.layer0(x).view(-1, self.in_channels_DNN)\n",
    "        output1 = self.layer1(output0).view(-1, self.out_channels, self.out_length)\n",
    "        return output1"
   ]
  },
  {
   "cell_type": "code",
   "execution_count": 7,
   "id": "200daf96-930f-4353-95c3-8e9270056926",
   "metadata": {
    "tags": []
   },
   "outputs": [],
   "source": [
    "from torch.utils.data import Dataset, DataLoader\n",
    "\n",
    "#---------------------------------------------\n",
    "#var\n",
    "path_dir_X = \"../data_X\"\n",
    "path_dir_Y = \"../data_Y_Task3\"\n",
    "n_test = 100\n",
    "n_val = 100\n",
    "batch_size = 100 #5000\n",
    "\n",
    "#---------------------------------------------\n",
    "#instance\n",
    "dataset = CustomDataset(path_dir_X=path_dir_X, path_dir_Y=path_dir_Y, n_test=n_test, n_val=n_val, batch_size=batch_size)\n",
    "dataloder = DataLoader(dataset, batch_size=batch_size, shuffle=True)"
   ]
  },
  {
   "cell_type": "code",
   "execution_count": 13,
   "id": "d0c3edd7-734b-44e3-a299-d5c0140d58f2",
   "metadata": {
    "tags": []
   },
   "outputs": [
    {
     "name": "stdout",
     "output_type": "stream",
     "text": [
      "15917\n"
     ]
    }
   ],
   "source": [
    "print(len(dataset))"
   ]
  },
  {
   "cell_type": "code",
   "execution_count": 16,
   "id": "70b2aa8d-eb1e-41f3-9dfd-a65a64321eb8",
   "metadata": {
    "tags": []
   },
   "outputs": [
    {
     "name": "stdout",
     "output_type": "stream",
     "text": [
      "12733 3184 3184\n"
     ]
    }
   ],
   "source": [
    "from torch.utils.data import random_split\n",
    "\n",
    "train_size = int(0.8 * len(dataset))\n",
    "val_size = len(dataset) - train_size\n",
    "train_dataset, val_dataset = random_split(dataset, [train_size, val_size])\n",
    "train_loader = DataLoader(train_dataset, batch_size=batch_size, shuffle=True)\n",
    "val_loader = DataLoader(val_dataset, batch_size=batch_size, shuffle=False)\n",
    "print(train_size,val_size,val_size)"
   ]
  },
  {
   "cell_type": "code",
   "execution_count": 8,
   "id": "9deb92b8-de33-4cda-81f5-47bba8c7c028",
   "metadata": {
    "tags": []
   },
   "outputs": [
    {
     "name": "stderr",
     "output_type": "stream",
     "text": [
      "/g/g90/dhakal1/.local/lib/python3.9/site-packages/torch/cuda/__init__.py:619: UserWarning: Can't initialize NVML\n",
      "  warnings.warn(\"Can't initialize NVML\")\n"
     ]
    }
   ],
   "source": [
    "#----------------------------\n",
    "#var (condition)\n",
    "device = torch.device(\"cuda:0\" if torch.cuda.is_available() else \"cpu\")\n",
    "#----------------------------\n",
    "#var (train)\n",
    "num_epochs = 1000\n",
    "n_print_train_result = 1\n",
    "val_flag = True\n",
    "\n",
    "#----------------------------\n",
    "#init (model)\n",
    "in_channels = dataset.return_shape_X()[0]\n",
    "in_length = dataset.return_shape_X()[1]\n",
    "out_channels = dataset.return_shape_Y()[0]\n",
    "out_length = dataset.return_shape_Y()[1]\n",
    "model = model_task3(in_channels, in_length, out_channels, out_length, batch_size).to(device)\n",
    "#init model weight\n",
    "model.apply(init_normal_dist)\n",
    "#----------------------------\n",
    "#init (optimizer, scheduler)\n",
    "optimizer = torch.optim.Adam(model.parameters(), lr=0.01)\n",
    "scheduler = torch.optim.lr_scheduler.MultiStepLR(optimizer, milestones=[10,30,50,100,300,500], gamma=0.95)\n",
    "#----------------------------\n",
    "#init (loss_func)\n",
    "#https://neptune.ai/blog/pytorch-loss-functions\n",
    "loss_func = nn.MSELoss()\n",
    "#loss_func = nn.L1Loss()"
   ]
  },
  {
   "cell_type": "code",
   "execution_count": 12,
   "id": "d52bf352-a879-49b6-86ac-8b8e48b1b260",
   "metadata": {
    "tags": []
   },
   "outputs": [
    {
     "name": "stdout",
     "output_type": "stream",
     "text": [
      "torch.Size([100, 12, 500]) torch.Size([100, 75, 1])\n",
      "Epoch: 1, iter: 1, train_loss:  0.0078\n",
      "tensor(-3.2734e-12)\n",
      "torch.Size([100, 12, 500]) torch.Size([100, 75, 1])\n",
      "Epoch: 1, iter: 2, train_loss:  0.0079\n",
      "tensor(-6.3276e-12)\n",
      "torch.Size([100, 12, 500]) torch.Size([100, 75, 1])\n",
      "Epoch: 1, iter: 3, train_loss:  0.0068\n",
      "tensor(1.2586e-12)\n",
      "torch.Size([100, 12, 500]) torch.Size([100, 75, 1])\n",
      "Epoch: 1, iter: 4, train_loss:  0.0064\n",
      "tensor(-2.7281e-12)\n",
      "torch.Size([100, 12, 500]) torch.Size([100, 75, 1])\n"
     ]
    },
    {
     "ename": "KeyboardInterrupt",
     "evalue": "",
     "output_type": "error",
     "traceback": [
      "\u001b[0;31m---------------------------------------------------------------------------\u001b[0m",
      "\u001b[0;31mKeyboardInterrupt\u001b[0m                         Traceback (most recent call last)",
      "Input \u001b[0;32mIn [12]\u001b[0m, in \u001b[0;36m<module>\u001b[0;34m\u001b[0m\n\u001b[1;32m     25\u001b[0m \u001b[38;5;66;03m#----------------------------\u001b[39;00m\n\u001b[1;32m     26\u001b[0m \u001b[38;5;66;03m#backward\u001b[39;00m\n\u001b[1;32m     27\u001b[0m optimizer\u001b[38;5;241m.\u001b[39mzero_grad()\n\u001b[0;32m---> 28\u001b[0m \u001b[43mloss\u001b[49m\u001b[38;5;241;43m.\u001b[39;49m\u001b[43mbackward\u001b[49m\u001b[43m(\u001b[49m\u001b[43m)\u001b[49m\n\u001b[1;32m     29\u001b[0m optimizer\u001b[38;5;241m.\u001b[39mstep()\n\u001b[1;32m     30\u001b[0m \u001b[38;5;66;03m#----------------------------\u001b[39;00m\n\u001b[1;32m     31\u001b[0m \u001b[38;5;66;03m#print & result\u001b[39;00m\n",
      "File \u001b[0;32m~/.local/lib/python3.9/site-packages/torch/_tensor.py:525\u001b[0m, in \u001b[0;36mTensor.backward\u001b[0;34m(self, gradient, retain_graph, create_graph, inputs)\u001b[0m\n\u001b[1;32m    515\u001b[0m \u001b[38;5;28;01mif\u001b[39;00m has_torch_function_unary(\u001b[38;5;28mself\u001b[39m):\n\u001b[1;32m    516\u001b[0m     \u001b[38;5;28;01mreturn\u001b[39;00m handle_torch_function(\n\u001b[1;32m    517\u001b[0m         Tensor\u001b[38;5;241m.\u001b[39mbackward,\n\u001b[1;32m    518\u001b[0m         (\u001b[38;5;28mself\u001b[39m,),\n\u001b[0;32m   (...)\u001b[0m\n\u001b[1;32m    523\u001b[0m         inputs\u001b[38;5;241m=\u001b[39minputs,\n\u001b[1;32m    524\u001b[0m     )\n\u001b[0;32m--> 525\u001b[0m \u001b[43mtorch\u001b[49m\u001b[38;5;241;43m.\u001b[39;49m\u001b[43mautograd\u001b[49m\u001b[38;5;241;43m.\u001b[39;49m\u001b[43mbackward\u001b[49m\u001b[43m(\u001b[49m\n\u001b[1;32m    526\u001b[0m \u001b[43m    \u001b[49m\u001b[38;5;28;43mself\u001b[39;49m\u001b[43m,\u001b[49m\u001b[43m \u001b[49m\u001b[43mgradient\u001b[49m\u001b[43m,\u001b[49m\u001b[43m \u001b[49m\u001b[43mretain_graph\u001b[49m\u001b[43m,\u001b[49m\u001b[43m \u001b[49m\u001b[43mcreate_graph\u001b[49m\u001b[43m,\u001b[49m\u001b[43m \u001b[49m\u001b[43minputs\u001b[49m\u001b[38;5;241;43m=\u001b[39;49m\u001b[43minputs\u001b[49m\n\u001b[1;32m    527\u001b[0m \u001b[43m\u001b[49m\u001b[43m)\u001b[49m\n",
      "File \u001b[0;32m~/.local/lib/python3.9/site-packages/torch/autograd/__init__.py:267\u001b[0m, in \u001b[0;36mbackward\u001b[0;34m(tensors, grad_tensors, retain_graph, create_graph, grad_variables, inputs)\u001b[0m\n\u001b[1;32m    262\u001b[0m     retain_graph \u001b[38;5;241m=\u001b[39m create_graph\n\u001b[1;32m    264\u001b[0m \u001b[38;5;66;03m# The reason we repeat the same comment below is that\u001b[39;00m\n\u001b[1;32m    265\u001b[0m \u001b[38;5;66;03m# some Python versions print out the first line of a multi-line function\u001b[39;00m\n\u001b[1;32m    266\u001b[0m \u001b[38;5;66;03m# calls in the traceback and some print out the last line\u001b[39;00m\n\u001b[0;32m--> 267\u001b[0m \u001b[43m_engine_run_backward\u001b[49m\u001b[43m(\u001b[49m\n\u001b[1;32m    268\u001b[0m \u001b[43m    \u001b[49m\u001b[43mtensors\u001b[49m\u001b[43m,\u001b[49m\n\u001b[1;32m    269\u001b[0m \u001b[43m    \u001b[49m\u001b[43mgrad_tensors_\u001b[49m\u001b[43m,\u001b[49m\n\u001b[1;32m    270\u001b[0m \u001b[43m    \u001b[49m\u001b[43mretain_graph\u001b[49m\u001b[43m,\u001b[49m\n\u001b[1;32m    271\u001b[0m \u001b[43m    \u001b[49m\u001b[43mcreate_graph\u001b[49m\u001b[43m,\u001b[49m\n\u001b[1;32m    272\u001b[0m \u001b[43m    \u001b[49m\u001b[43minputs\u001b[49m\u001b[43m,\u001b[49m\n\u001b[1;32m    273\u001b[0m \u001b[43m    \u001b[49m\u001b[43mallow_unreachable\u001b[49m\u001b[38;5;241;43m=\u001b[39;49m\u001b[38;5;28;43;01mTrue\u001b[39;49;00m\u001b[43m,\u001b[49m\n\u001b[1;32m    274\u001b[0m \u001b[43m    \u001b[49m\u001b[43maccumulate_grad\u001b[49m\u001b[38;5;241;43m=\u001b[39;49m\u001b[38;5;28;43;01mTrue\u001b[39;49;00m\u001b[43m,\u001b[49m\n\u001b[1;32m    275\u001b[0m \u001b[43m\u001b[49m\u001b[43m)\u001b[49m\n",
      "File \u001b[0;32m~/.local/lib/python3.9/site-packages/torch/autograd/graph.py:744\u001b[0m, in \u001b[0;36m_engine_run_backward\u001b[0;34m(t_outputs, *args, **kwargs)\u001b[0m\n\u001b[1;32m    742\u001b[0m     unregister_hooks \u001b[38;5;241m=\u001b[39m _register_logging_hooks_on_whole_graph(t_outputs)\n\u001b[1;32m    743\u001b[0m \u001b[38;5;28;01mtry\u001b[39;00m:\n\u001b[0;32m--> 744\u001b[0m     \u001b[38;5;28;01mreturn\u001b[39;00m \u001b[43mVariable\u001b[49m\u001b[38;5;241;43m.\u001b[39;49m\u001b[43m_execution_engine\u001b[49m\u001b[38;5;241;43m.\u001b[39;49m\u001b[43mrun_backward\u001b[49m\u001b[43m(\u001b[49m\u001b[43m  \u001b[49m\u001b[38;5;66;43;03m# Calls into the C++ engine to run the backward pass\u001b[39;49;00m\n\u001b[1;32m    745\u001b[0m \u001b[43m        \u001b[49m\u001b[43mt_outputs\u001b[49m\u001b[43m,\u001b[49m\u001b[43m \u001b[49m\u001b[38;5;241;43m*\u001b[39;49m\u001b[43margs\u001b[49m\u001b[43m,\u001b[49m\u001b[43m \u001b[49m\u001b[38;5;241;43m*\u001b[39;49m\u001b[38;5;241;43m*\u001b[39;49m\u001b[43mkwargs\u001b[49m\n\u001b[1;32m    746\u001b[0m \u001b[43m    \u001b[49m\u001b[43m)\u001b[49m  \u001b[38;5;66;03m# Calls into the C++ engine to run the backward pass\u001b[39;00m\n\u001b[1;32m    747\u001b[0m \u001b[38;5;28;01mfinally\u001b[39;00m:\n\u001b[1;32m    748\u001b[0m     \u001b[38;5;28;01mif\u001b[39;00m attach_logging_hooks:\n",
      "\u001b[0;31mKeyboardInterrupt\u001b[0m: "
     ]
    }
   ],
   "source": [
    "#----------------------------\n",
    "#results\n",
    "history = {\"train_loss\": [], \"val_loss\": []}\n",
    "\n",
    "#----------------------------\n",
    "#学習\n",
    "for epoch in range(num_epochs):\n",
    "  #----------------------------\n",
    "  # train\n",
    "  model.train()\n",
    "  for i, (x, y) in enumerate(dataloder):\n",
    "    #----------------------------\n",
    "    #float32, grad==True\n",
    "    x = dataset.change_data_setting_to_train(x)\n",
    "    y = dataset.change_data_setting_to_train(y)\n",
    "    print(x.shape,y.shape)\n",
    "    #----------------------------\n",
    "    #change the type\n",
    "    x = x.to(device)\n",
    "    y = y.to(device)\n",
    "    #----------------------------\n",
    "    #forward\n",
    "    output = model(x)\n",
    "    loss = loss_func(output, y)\n",
    "    #----------------------------\n",
    "    #backward\n",
    "    optimizer.zero_grad()\n",
    "    loss.backward()\n",
    "    optimizer.step()\n",
    "    #----------------------------\n",
    "    #print & result\n",
    "    if (i+1) % n_print_train_result == 0:\n",
    "      print(f'Epoch: {epoch+1}, iter: {i+1}, train_loss: {loss: 0.4f}')\n",
    "      print(x.grad.mean())\n",
    "  history[\"train_loss\"].append(loss)\n",
    "\n",
    "  #----------------------------\n",
    "  # eval\n",
    "  if val_flag == True:\n",
    "    model.eval()\n",
    "    with torch.no_grad():\n",
    "      #----------------------------\n",
    "      #forward\n",
    "      x, y = dataset.return_val_data()\n",
    "      #----------------------------\n",
    "      #float32, grad==True\n",
    "      x = dataset.change_data_setting_to_train(x)\n",
    "      y = dataset.change_data_setting_to_train(y)\n",
    "      #----------------------------\n",
    "      #change the type\n",
    "      x = x.to(device)\n",
    "      y = y.to(device)\n",
    "      #----------------------------\n",
    "      #forward\n",
    "      output = model(x)\n",
    "      loss = loss_func(output, y)\n",
    "      #----------------------------\n",
    "      #print & result\n",
    "      history[\"val_loss\"].append(loss)\n",
    "      print(f'Epoch: {epoch+1}, val_loss: {loss: 0.4f}')\n",
    "  \n",
    "  #----------------------------\n",
    "  # scheduler\n",
    "  scheduler.step()"
   ]
  }
 ],
 "metadata": {
  "kernelspec": {
   "display_name": "Python 3 (ipykernel)",
   "language": "python",
   "name": "python3"
  },
  "language_info": {
   "codemirror_mode": {
    "name": "ipython",
    "version": 3
   },
   "file_extension": ".py",
   "mimetype": "text/x-python",
   "name": "python",
   "nbconvert_exporter": "python",
   "pygments_lexer": "ipython3",
   "version": "3.9.12"
  }
 },
 "nbformat": 4,
 "nbformat_minor": 5
}
